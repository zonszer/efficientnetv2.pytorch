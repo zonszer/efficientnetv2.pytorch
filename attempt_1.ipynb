{
 "cells": [
  {
   "cell_type": "code",
   "execution_count": 2,
   "metadata": {},
   "outputs": [],
   "source": [
    "from torch.utils.tensorboard import SummaryWriter\n",
    "writer  = SummaryWriter(\"attempt_1_logs\")\n",
    "\n",
    "\n",
    "writer.close()"
   ]
  },
  {
   "cell_type": "code",
   "execution_count": null,
   "metadata": {},
   "outputs": [],
   "source": [
    "import cv2\n",
    "import numpy\n",
    "\n",
    "img_path = \"data//train//Image1_1.jpg\"\n",
    "img = cv2.imread(img_path)\n",
    "img_RGB = cv2.cvtColor(img,cv2.COLOR_BGR2RGB)\n",
    "img_array = numpy.array(img_RGB)\n",
    "\n",
    "print(img_array.shape) \n",
    "writer.add_image(\"test\", img_array, 3, dataformats='HWC')\n",
    "writer.close()"
   ]
  },
  {
   "cell_type": "code",
   "execution_count": 17,
   "metadata": {},
   "outputs": [
    {
     "ename": "ModuleNotFoundError",
     "evalue": "No module named 'torchvision'",
     "output_type": "error",
     "traceback": [
      "\u001b[1;31m---------------------------------------------------------------------------\u001b[0m",
      "\u001b[1;31mModuleNotFoundError\u001b[0m                       Traceback (most recent call last)",
      "\u001b[1;32md:\\study_software\\CV_paper_code\\efficientnetv2.pytorch\\study_tensor\\tensorbord.ipynb Cell 3'\u001b[0m in \u001b[0;36m<cell line: 1>\u001b[1;34m()\u001b[0m\n\u001b[1;32m----> <a href='vscode-notebook-cell:/d%3A/study_software/CV_paper_code/efficientnetv2.pytorch/study_tensor/tensorbord.ipynb#ch0000002?line=0'>1</a>\u001b[0m \u001b[39mfrom\u001b[39;00m \u001b[39mtorchvision\u001b[39;00m \u001b[39mimport\u001b[39;00m transforms\n",
      "\u001b[1;31mModuleNotFoundError\u001b[0m: No module named 'torchvision'"
     ]
    }
   ],
   "source": [
    "from torchvision import transforms\n",
    "from PIL import Image\n",
    "import os\n",
    "from torch.utils.data import Dataset, DataLoader\n",
    "import numpy as np\n",
    "\n",
    "class MyData(Dataset):\n",
    "\n",
    "    def __init__(self, root_dir, image_dir, label_dir, transform):\n",
    "        self.root_dir = root_dir\n",
    "        self.image_dir = image_dir\n",
    "        # self.label_dir = label_dir\n",
    "        # self.label_path = os.path.join(self.root_dir, self.label_dir)\n",
    "        self.image_path = os.path.join(self.root_dir, self.image_dir)\n",
    "        self.image_list = os.listdir(self.image_path)\n",
    "        self.label_list = os.listdir(self.label_path)\n",
    "        self.transform = transform\n",
    "        # 因为label 和 Image文件名相同，进行一样的排序，可以保证取出的数据和label是一一对应的\n",
    "        self.image_list.sort()\n",
    "        self.label_list.sort()\n",
    "\n",
    "    def __getitem__(self, idx):\n",
    "        img_name = self.image_list[idx]\n",
    "        label_name = self.label_list[idx]\n",
    "        img_item_path = os.path.join(self.root_dir, self.image_dir, img_name)\n",
    "        label_item_path = os.path.join(self.root_dir, self.label_dir, label_name)\n",
    "        img = Image.open(img_item_path)\n",
    "\n",
    "        with open(label_item_path, 'r') as f:\n",
    "            label = f.readline()\n",
    "\n",
    "        # img = np.array(img)\n",
    "        img = self.transform(img)\n",
    "        sample = {'img': img, 'label': label}\n",
    "        return sample\n",
    "\n",
    "    def __len__(self):\n",
    "        assert len(self.image_list) == len(self.label_list)\n",
    "        return len(self.image_list)\n",
    "\n",
    "if __name__ == '__main__':\n",
    "    writer = SummaryWriter(\"attempt_1_logs\")\n",
    "\n",
    "    transform = transforms.Compose([transforms.Resize((32, 32)), transforms.ToTensor()])\n",
    "    img_path = \"data//train//Image1_1.jpg\"\n",
    "    root_dir = \"data//train\"\n",
    "    image_ants = \"Image1_1\"\n",
    "    label_ants = \"RGB\"\n",
    "    ants_dataset = MyData(root_dir, image_ants, label_ants, transform)\n",
    "    # image_bees = \"bees_image\"\n",
    "    # label_bees = \"bees_label\"\n",
    "    # bees_dataset = MyData(root_dir, image_bees, label_bees, transform)\n",
    "    # train_dataset = ants_dataset + bees_dataset\n",
    "\n",
    "    # transforms = transforms.Compose([transforms.Resize(256, 256)])\n",
    "    # dataloader = DataLoader(train_dataset, batch_size=1, num_workers=2)\n",
    "\n",
    "    writer.add_image('RGB', ants_dataset[0]['img'])         #??\n",
    "    writer.close()"
   ]
  }
 ],
 "metadata": {
  "interpreter": {
   "hash": "1104b070cf749f8b1d8e90ee596b9a0d7b90cb91fc8ec12647f48ba9555d6193"
  },
  "kernelspec": {
   "display_name": "Python 3.8.10 64-bit",
   "language": "python",
   "name": "python3"
  },
  "language_info": {
   "codemirror_mode": {
    "name": "ipython",
    "version": 3
   },
   "file_extension": ".py",
   "mimetype": "text/x-python",
   "name": "python",
   "nbconvert_exporter": "python",
   "pygments_lexer": "ipython3",
   "version": "3.8.10"
  },
  "orig_nbformat": 4
 },
 "nbformat": 4,
 "nbformat_minor": 2
}
