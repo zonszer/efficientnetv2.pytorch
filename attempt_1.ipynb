{
 "cells": [
  {
   "cell_type": "markdown",
   "metadata": {},
   "source": [
    "用于转化图像类型和通道"
   ]
  },
  {
   "cell_type": "code",
   "execution_count": 2,
   "metadata": {},
   "outputs": [
    {
     "name": "stdout",
     "output_type": "stream",
     "text": [
      "[1. 1.]\n"
     ]
    }
   ],
   "source": [
    "import cv2\n",
    "import numpy as np\n",
    "\n",
    "# img_path = \"data//train//Image1_1.jpg\"\n",
    "# img = cv2.imread(img_path)\n",
    "# img_RGB = cv2.cvtColor(img,cv2.COLOR_BGR2RGB)\n",
    "# img_array = numpy.array(img_RGB)\n",
    "\n",
    "# print(img_array.shape) \n",
    "# writer.add_image(\"test\", img_array, 3, dataformats='HWC')\n",
    "# writer.close()\n",
    "IX  = (224, 224, 3)\n",
    "shape = np.array([224.0, 224.0])\n",
    "print(np.array(IX[:2]) / shape)\n"
   ]
  },
  {
   "cell_type": "markdown",
   "metadata": {},
   "source": [
    "用于creat Dataset"
   ]
  },
  {
   "cell_type": "code",
   "execution_count": 7,
   "metadata": {},
   "outputs": [
    {
     "name": "stdout",
     "output_type": "stream",
     "text": [
      "Unexpected exception formatting exception. Falling back to standard exception\n"
     ]
    },
    {
     "name": "stderr",
     "output_type": "stream",
     "text": [
      "Traceback (most recent call last):\n",
      "  File \"d:\\Visual Studio2019\\env_for_AIlab\\lib\\site-packages\\IPython\\core\\interactiveshell.py\", line 3397, in run_code\n",
      "    exec(code_obj, self.user_global_ns, self.user_ns)\n",
      "  File \"C:\\Users\\12913\\AppData\\Local\\Temp/ipykernel_46384/491372997.py\", line 22, in <cell line: 10>\n",
      "    for data in train_loader:\n",
      "  File \"d:\\Visual Studio2019\\env_for_AIlab\\lib\\site-packages\\torch\\utils\\data\\dataloader.py\", line 530, in __next__\n",
      "    data = self._next_data()\n",
      "  File \"d:\\Visual Studio2019\\env_for_AIlab\\lib\\site-packages\\torch\\utils\\data\\dataloader.py\", line 569, in _next_data\n",
      "    index = self._next_index()  # may raise StopIteration\n",
      "  File \"d:\\Visual Studio2019\\env_for_AIlab\\lib\\site-packages\\torch\\utils\\data\\dataloader.py\", line 521, in _next_index\n",
      "    return next(self._sampler_iter)  # may raise StopIteration\n",
      "  File \"d:\\Visual Studio2019\\env_for_AIlab\\lib\\site-packages\\torch\\utils\\data\\sampler.py\", line 226, in __iter__\n",
      "    for idx in self.sampler:\n",
      "  File \"d:\\Visual Studio2019\\env_for_AIlab\\lib\\site-packages\\torch\\utils\\data\\sampler.py\", line 66, in __iter__\n",
      "    return iter(range(len(self.data_source)))\n",
      "  File \"d:\\study_software\\CV_paper_code\\efficientnetv2.pytorch\\dataset_define.py\", line 65, in __len__\n",
      "AttributeError: 'MyData' object has no attribute 'len'\n",
      "\n",
      "During handling of the above exception, another exception occurred:\n",
      "\n",
      "Traceback (most recent call last):\n",
      "  File \"d:\\Visual Studio2019\\env_for_AIlab\\lib\\site-packages\\IPython\\core\\interactiveshell.py\", line 1992, in showtraceback\n",
      "    stb = self.InteractiveTB.structured_traceback(\n",
      "  File \"d:\\Visual Studio2019\\env_for_AIlab\\lib\\site-packages\\IPython\\core\\ultratb.py\", line 1118, in structured_traceback\n",
      "    return FormattedTB.structured_traceback(\n",
      "  File \"d:\\Visual Studio2019\\env_for_AIlab\\lib\\site-packages\\IPython\\core\\ultratb.py\", line 1012, in structured_traceback\n",
      "    return VerboseTB.structured_traceback(\n",
      "  File \"d:\\Visual Studio2019\\env_for_AIlab\\lib\\site-packages\\IPython\\core\\ultratb.py\", line 865, in structured_traceback\n",
      "    formatted_exception = self.format_exception_as_a_whole(etype, evalue, etb, number_of_lines_of_context,\n",
      "  File \"d:\\Visual Studio2019\\env_for_AIlab\\lib\\site-packages\\IPython\\core\\ultratb.py\", line 818, in format_exception_as_a_whole\n",
      "    frames.append(self.format_record(r))\n",
      "  File \"d:\\Visual Studio2019\\env_for_AIlab\\lib\\site-packages\\IPython\\core\\ultratb.py\", line 736, in format_record\n",
      "    result += ''.join(_format_traceback_lines(frame_info.lines, Colors, self.has_colors, lvals))\n",
      "  File \"d:\\Visual Studio2019\\env_for_AIlab\\lib\\site-packages\\stack_data\\utils.py\", line 145, in cached_property_wrapper\n",
      "    value = obj.__dict__[self.func.__name__] = self.func(obj)\n",
      "  File \"d:\\Visual Studio2019\\env_for_AIlab\\lib\\site-packages\\stack_data\\core.py\", line 698, in lines\n",
      "    pieces = self.included_pieces\n",
      "  File \"d:\\Visual Studio2019\\env_for_AIlab\\lib\\site-packages\\stack_data\\utils.py\", line 145, in cached_property_wrapper\n",
      "    value = obj.__dict__[self.func.__name__] = self.func(obj)\n",
      "  File \"d:\\Visual Studio2019\\env_for_AIlab\\lib\\site-packages\\stack_data\\core.py\", line 649, in included_pieces\n",
      "    pos = scope_pieces.index(self.executing_piece)\n",
      "  File \"d:\\Visual Studio2019\\env_for_AIlab\\lib\\site-packages\\stack_data\\utils.py\", line 145, in cached_property_wrapper\n",
      "    value = obj.__dict__[self.func.__name__] = self.func(obj)\n",
      "  File \"d:\\Visual Studio2019\\env_for_AIlab\\lib\\site-packages\\stack_data\\core.py\", line 628, in executing_piece\n",
      "    return only(\n",
      "  File \"d:\\Visual Studio2019\\env_for_AIlab\\lib\\site-packages\\executing\\executing.py\", line 164, in only\n",
      "    raise NotOneValueFound('Expected one value, found 0')\n",
      "executing.executing.NotOneValueFound: Expected one value, found 0\n"
     ]
    }
   ],
   "source": [
    "from torchvision import transforms\n",
    "from torch.utils.tensorboard import SummaryWriter\n",
    "from PIL import Image\n",
    "import os\n",
    "from torch.utils.data import Dataset, DataLoader\n",
    "import numpy as np\n",
    "from dataset_define import *\n",
    "\n",
    "\n",
    "if __name__ == '__main__':\n",
    "\n",
    "    #1. create my dataset\n",
    "    transform = transforms.Compose([transforms.ToTensor()])        #opt:transforms.Grayscale(num_output_channels=1)，  transforms.resize(32)\n",
    "    root_dir = \"data\"\n",
    "    dataset_type = \"train\"\n",
    "    RGB_dataset = MyData(root_dir, dataset_type, transform)\n",
    "    \n",
    "    #output---->注意data的输出格式应为[batch_size,C,H,W]\n",
    "    train_loader = DataLoader(RGB_dataset, batch_size = 2)      \n",
    "    writer = SummaryWriter(\"attempt_1_logs\")\n",
    "    step = 0\n",
    "    for data in train_loader:\n",
    "        writer.add_images('RGBs', data[0], step)         #data.Size([6, 211, 3, 32, 32])\n",
    "        step = step + 1\n",
    "    writer.close()"
   ]
  },
  {
   "cell_type": "markdown",
   "metadata": {},
   "source": [
    "将整数标签转为one-hot编码"
   ]
  },
  {
   "cell_type": "code",
   "execution_count": 3,
   "metadata": {},
   "outputs": [],
   "source": [
    "from torchvision import transforms\n",
    "from torch.utils.tensorboard import SummaryWriter\n",
    "from PIL import Image\n",
    "import os\n",
    "from torch.utils.data import Dataset, DataLoader\n",
    "import numpy as np\n",
    "from dataset_define import *\n",
    "import torch"
   ]
  },
  {
   "cell_type": "code",
   "execution_count": 5,
   "metadata": {},
   "outputs": [],
   "source": [
    "patch_num = 211\n",
    "tensor = torch.tensor(range(patch_num))\n",
    "\n",
    "N = tensor.size(0)\n",
    "num_classes = patch_num\n",
    "one_hot = torch.zeros(N, num_classes).long()\n",
    "a = one_hot.scatter_(dim=1, index=torch.unsqueeze(tensor, dim=1), src=torch.ones(N, num_classes).long())"
   ]
  }
 ],
 "metadata": {
  "interpreter": {
   "hash": "1104b070cf749f8b1d8e90ee596b9a0d7b90cb91fc8ec12647f48ba9555d6193"
  },
  "kernelspec": {
   "display_name": "Python 3.8.10 64-bit",
   "language": "python",
   "name": "python3"
  },
  "language_info": {
   "codemirror_mode": {
    "name": "ipython",
    "version": 3
   },
   "file_extension": ".py",
   "mimetype": "text/x-python",
   "name": "python",
   "nbconvert_exporter": "python",
   "pygments_lexer": "ipython3",
   "version": "3.8.10"
  },
  "orig_nbformat": 4
 },
 "nbformat": 4,
 "nbformat_minor": 2
}
