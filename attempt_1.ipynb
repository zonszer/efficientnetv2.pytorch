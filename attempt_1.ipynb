{
 "cells": [
  {
   "cell_type": "code",
   "execution_count": 2,
   "metadata": {},
   "outputs": [],
   "source": [
    "from torch.utils.tensorboard import SummaryWriter\n",
    "writer  = SummaryWriter(\"attempt_1_logs\")\n",
    "\n",
    "\n",
    "writer.close()"
   ]
  },
  {
   "cell_type": "code",
   "execution_count": null,
   "metadata": {},
   "outputs": [],
   "source": [
    "import cv2\n",
    "import numpy\n",
    "\n",
    "img_path = \"data//train//Image1_1.jpg\"\n",
    "img = cv2.imread(img_path)\n",
    "img_RGB = cv2.cvtColor(img,cv2.COLOR_BGR2RGB)\n",
    "img_array = numpy.array(img_RGB)\n",
    "\n",
    "print(img_array.shape) \n",
    "writer.add_image(\"test\", img_array, 3, dataformats='HWC')\n",
    "writer.close()"
   ]
  },
  {
   "cell_type": "code",
   "execution_count": 36,
   "metadata": {},
   "outputs": [],
   "source": [
    "from torchvision import transforms\n",
    "from torch.utils.tensorboard import SummaryWriter\n",
    "from PIL import Image\n",
    "import os\n",
    "from torch.utils.data import Dataset, DataLoader\n",
    "import numpy as np\n",
    "\n",
    "class MyData(Dataset):\n",
    "\n",
    "    def __init__(self, root_dir,  label_dir, dataset_type, transform):\n",
    "        self.root_dir = root_dir\n",
    "        self.dataset_type = dataset_type \n",
    "\n",
    "        self.image_path = os.path.join(self.root_dir, self.dataset_type)\n",
    "\n",
    "        self.image_list = os.listdir(self.image_path)  # 因为label 和 Image文件名相同，进行一样的排序，可以保证取出的数据和label是一一对应的\n",
    "        # self.label_list = os.listdir(self.label_path)\n",
    "\n",
    "        #cut to patches\n",
    "        self.transform = transform\n",
    "        \n",
    "    def __getitem__(self, idx):\n",
    "        img_name = self.image_list[idx]\n",
    "        # label_name = self.label_list[idx]\n",
    "        img_item_path = os.path.join(self.root_dir, self.dataset_type, img_name)\n",
    "\n",
    "        # label_item_path = os.path.join(self.root_dir, self.label_dir, label_name)\n",
    "        img = Image.open(img_item_path)\n",
    "\n",
    "        # img = np.array(img)\n",
    "        img = self.transform(img)\n",
    "        \n",
    "        sample = {'img': img}\n",
    "        return sample\n",
    "\n",
    "    def __len__(self):\n",
    "        return len(self.image_list)\n",
    "\n",
    "\n",
    "\n",
    "if __name__ == '__main__':\n",
    "    writer = SummaryWriter(\"attempt_1_logs\")\n",
    "    \n",
    "    transform = transforms.Compose([transforms.Grayscale(num_output_channels=1), transforms.ToTensor()])        ##opt:transforms.resize(32)\n",
    "    root_dir = \"data\"\n",
    "    dataset_type = \"train\"\n",
    "    label = \"RGB\"\n",
    "    RGB_dataset = MyData(root_dir, label, dataset_type, transform)\n",
    "\n",
    "    img1 = RGB_dataset[0]['img']\n",
    "    writer.add_image('RGB', img1)         #return is a dict\n",
    "\n",
    "    # images = crop_image(img1, 32, 32)\n",
    "    # train_loader = DataLoader(RGB_dataset, batch_size = patch_num)      #可用先用来看看分割的结果\n",
    "\n",
    "    # step = 0\n",
    "    # for data in train_loader:\n",
    "    #     writer.add_images('RGBs', img1, step)         #return is a dict\n",
    "    #     step = step + 1\n",
    "\n",
    "    # writer.close()"
   ]
  },
  {
   "cell_type": "code",
   "execution_count": 35,
   "metadata": {},
   "outputs": [
    {
     "ename": "RuntimeError",
     "evalue": "Sizes of tensors must match except in dimension 0. Expected size 32 but got size 0 for tensor number 1 in the list.",
     "output_type": "error",
     "traceback": [
      "\u001b[1;31m---------------------------------------------------------------------------\u001b[0m",
      "\u001b[1;31mRuntimeError\u001b[0m                              Traceback (most recent call last)",
      "\u001b[1;32md:\\study_software\\CV_paper_code\\efficientnetv2.pytorch\\attempt_1.ipynb Cell 4'\u001b[0m in \u001b[0;36m<cell line: 26>\u001b[1;34m()\u001b[0m\n\u001b[0;32m     <a href='vscode-notebook-cell:/d%3A/study_software/CV_paper_code/efficientnetv2.pytorch/attempt_1.ipynb#ch0000003?line=25'>26</a>\u001b[0m \u001b[39mif\u001b[39;00m \u001b[39m__name__\u001b[39m \u001b[39m==\u001b[39m \u001b[39m'\u001b[39m\u001b[39m__main__\u001b[39m\u001b[39m'\u001b[39m:\n\u001b[0;32m     <a href='vscode-notebook-cell:/d%3A/study_software/CV_paper_code/efficientnetv2.pytorch/attempt_1.ipynb#ch0000003?line=27'>28</a>\u001b[0m     img1 \u001b[39m=\u001b[39m RGB_dataset[\u001b[39m0\u001b[39m][\u001b[39m'\u001b[39m\u001b[39mimg\u001b[39m\u001b[39m'\u001b[39m]\n\u001b[1;32m---> <a href='vscode-notebook-cell:/d%3A/study_software/CV_paper_code/efficientnetv2.pytorch/attempt_1.ipynb#ch0000003?line=28'>29</a>\u001b[0m     images \u001b[39m=\u001b[39m crop_image(img1, \u001b[39m32\u001b[39;49m, \u001b[39m32\u001b[39;49m)\n\u001b[0;32m     <a href='vscode-notebook-cell:/d%3A/study_software/CV_paper_code/efficientnetv2.pytorch/attempt_1.ipynb#ch0000003?line=30'>31</a>\u001b[0m     writer \u001b[39m=\u001b[39m SummaryWriter(\u001b[39m\"\u001b[39m\u001b[39mattempt_1_logs\u001b[39m\u001b[39m\"\u001b[39m)\n\u001b[0;32m     <a href='vscode-notebook-cell:/d%3A/study_software/CV_paper_code/efficientnetv2.pytorch/attempt_1.ipynb#ch0000003?line=31'>32</a>\u001b[0m     step \u001b[39m=\u001b[39m \u001b[39m0\u001b[39m\n",
      "\u001b[1;32md:\\study_software\\CV_paper_code\\efficientnetv2.pytorch\\attempt_1.ipynb Cell 4'\u001b[0m in \u001b[0;36mcrop_image\u001b[1;34m(img, height, width)\u001b[0m\n\u001b[0;32m     <a href='vscode-notebook-cell:/d%3A/study_software/CV_paper_code/efficientnetv2.pytorch/attempt_1.ipynb#ch0000003?line=19'>20</a>\u001b[0m         img_current \u001b[39m=\u001b[39m img[:, height\u001b[39m*\u001b[39m(i\u001b[39m-\u001b[39m\u001b[39m1\u001b[39m):height\u001b[39m*\u001b[39mi, height\u001b[39m*\u001b[39m(j\u001b[39m-\u001b[39m\u001b[39m1\u001b[39m):width\u001b[39m*\u001b[39mj]\n\u001b[0;32m     <a href='vscode-notebook-cell:/d%3A/study_software/CV_paper_code/efficientnetv2.pytorch/attempt_1.ipynb#ch0000003?line=20'>21</a>\u001b[0m         img_current \u001b[39m=\u001b[39m img_current\u001b[39m.\u001b[39munsqueeze(\u001b[39m0\u001b[39m)\n\u001b[1;32m---> <a href='vscode-notebook-cell:/d%3A/study_software/CV_paper_code/efficientnetv2.pytorch/attempt_1.ipynb#ch0000003?line=21'>22</a>\u001b[0m         imgs \u001b[39m=\u001b[39m torch\u001b[39m.\u001b[39;49mcat([imgs, img_current], dim\u001b[39m=\u001b[39;49m\u001b[39m0\u001b[39;49m)\n\u001b[0;32m     <a href='vscode-notebook-cell:/d%3A/study_software/CV_paper_code/efficientnetv2.pytorch/attempt_1.ipynb#ch0000003?line=23'>24</a>\u001b[0m \u001b[39mreturn\u001b[39;00m imgs\n",
      "\u001b[1;31mRuntimeError\u001b[0m: Sizes of tensors must match except in dimension 0. Expected size 32 but got size 0 for tensor number 1 in the list."
     ]
    }
   ],
   "source": [
    "from torchvision import transforms\n",
    "import torch\n",
    "from torch.utils.tensorboard import SummaryWriter\n",
    "from PIL import Image\n",
    "import os\n",
    "from torch.utils.data import Dataset, DataLoader\n",
    "import numpy as np\n",
    "import cv2\n",
    "def crop_image(img, height, width):\n",
    "    \"\"\"cut the image into patches- input/output: tensor \"\"\"\n",
    "\n",
    "    H = img.shape[1]\n",
    "    W = img.shape[2]\n",
    "    patch_num = min( H // height,  W // width)**2        #采取最大的正方形面积\n",
    "\n",
    "    imgs = img[:, 0:height*1, 0:width*1]\n",
    "    imgs = imgs.unsqueeze(0)\n",
    "    for i in range(2, patch_num + 1):\n",
    "        for j in range(1, patch_num + 1):\n",
    "            img_current = img[:, height*(i-1):height*i, height*(j-1):width*j]\n",
    "            img_current = img_current.unsqueeze(0)\n",
    "            imgs = torch.cat([imgs, img_current], dim=0)\n",
    "            \n",
    "    return imgs\n",
    "\n",
    "if __name__ == '__main__':\n",
    "    \n",
    "    img1 = RGB_dataset[0]['img']\n",
    "    images = crop_image(img1, 32, 32)\n",
    "\n",
    "    writer = SummaryWriter(\"attempt_1_logs\")\n",
    "    step = 0\n",
    "    for i in range(images.shape[0]):\n",
    "        writer.add_image('RGBs', images[i], step)         #return is a dict\n",
    "        step = step + 1\n"
   ]
  }
 ],
 "metadata": {
  "interpreter": {
   "hash": "1104b070cf749f8b1d8e90ee596b9a0d7b90cb91fc8ec12647f48ba9555d6193"
  },
  "kernelspec": {
   "display_name": "Python 3.8.10 64-bit",
   "language": "python",
   "name": "python3"
  },
  "language_info": {
   "codemirror_mode": {
    "name": "ipython",
    "version": 3
   },
   "file_extension": ".py",
   "mimetype": "text/x-python",
   "name": "python",
   "nbconvert_exporter": "python",
   "pygments_lexer": "ipython3",
   "version": "3.8.10"
  },
  "orig_nbformat": 4
 },
 "nbformat": 4,
 "nbformat_minor": 2
}
